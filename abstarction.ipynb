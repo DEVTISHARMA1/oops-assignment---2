{
 "cells": [
  {
   "cell_type": "code",
   "execution_count": 44,
   "id": "3ea417b4-4082-4046-a020-ba30efaa7c8e",
   "metadata": {},
   "outputs": [],
   "source": [
    "#1 que\n",
    "#Abstraction is the bluetrint /skeleton of class, that helps in leading the project"
   ]
  },
  {
   "cell_type": "code",
   "execution_count": 61,
   "id": "ab10cc08-cddf-4f68-bb92-94c1c87280f8",
   "metadata": {},
   "outputs": [],
   "source": [
    "import abc\n",
    "class shape:\n",
    "    @abc.abstractmethod\n",
    "    def area():\n",
    "        pass\n",
    "class rectangle(shape):\n",
    "    def __init__(self,length,width):\n",
    "        self.length=length\n",
    "        self.width=width\n",
    "    def area(self):\n",
    "        return self.length*self.width\n",
    "\n",
    "class circle(shape):\n",
    "    def __init__(self,radius):\n",
    "        self.radius=radius\n",
    "    def area(self):\n",
    "        return 3.14*self.radius*self.radius\n",
    "    \n",
    "        "
   ]
  },
  {
   "cell_type": "code",
   "execution_count": 68,
   "id": "4c0135f4-c66b-4c3f-bcfc-725b271a6710",
   "metadata": {},
   "outputs": [],
   "source": [
    "R=rectangle(10,5)\n",
    "C=circle(3)"
   ]
  },
  {
   "cell_type": "code",
   "execution_count": 64,
   "id": "7ea4069b-a0d9-4896-9e3f-07954703140a",
   "metadata": {},
   "outputs": [
    {
     "data": {
      "text/plain": [
       "50"
      ]
     },
     "execution_count": 64,
     "metadata": {},
     "output_type": "execute_result"
    }
   ],
   "source": [
    "R.area()\n"
   ]
  },
  {
   "cell_type": "code",
   "execution_count": 69,
   "id": "4fbf7141-bc9d-4385-b0e1-d0093d94f7b9",
   "metadata": {},
   "outputs": [
    {
     "data": {
      "text/plain": [
       "28.259999999999998"
      ]
     },
     "execution_count": 69,
     "metadata": {},
     "output_type": "execute_result"
    }
   ],
   "source": [
    "C.area()"
   ]
  },
  {
   "cell_type": "code",
   "execution_count": 70,
   "id": "2dd991c0-9bb2-4ee0-8427-33cde4bbccda",
   "metadata": {},
   "outputs": [],
   "source": [
    "#2 que\n",
    "#Abstraction is the bluetrint /skeleton of class, that helps in leading the project\n",
    "#Encapsulation is a mechanism of bundling data (attributes) and methods (behaviors) together within class"
   ]
  },
  {
   "cell_type": "code",
   "execution_count": 71,
   "id": "406e331b-a5d7-4f12-8219-3da39914a6bb",
   "metadata": {},
   "outputs": [],
   "source": [
    "#3 que\n",
    "#The abc module is used to define abstract base classes and to work with them. It provides the ABC\n",
    "#class as the base class for defining abstract base classes, and the abstractmethod decorator \n",
    "#to mark methods as abstract."
   ]
  },
  {
   "cell_type": "code",
   "execution_count": 72,
   "id": "7c90be8a-8b7f-4e45-807f-9f34c3934a1b",
   "metadata": {},
   "outputs": [],
   "source": [
    "#4 que\n",
    "#Data abstraction in Python can be achieved through the use of classes and objects.\n",
    "#the steps to achieve data abstraction:\n",
    "#    1.create a Class\n",
    "#    2.Hide Implementation Details\n",
    "#    3.Provide Access Methods\n"
   ]
  },
  {
   "cell_type": "code",
   "execution_count": null,
   "id": "efc222f2-87da-4b6b-ac51-be07e6e529ab",
   "metadata": {},
   "outputs": [],
   "source": [
    "#5 que\n",
    "#No, we cannot create an instance of an abstract class in Python. Abstract classes aredesigned to be \n",
    "#incomplete and serve as blueprints for other classes to inherit from."
   ]
  }
 ],
 "metadata": {
  "kernelspec": {
   "display_name": "Python 3 (ipykernel)",
   "language": "python",
   "name": "python3"
  },
  "language_info": {
   "codemirror_mode": {
    "name": "ipython",
    "version": 3
   },
   "file_extension": ".py",
   "mimetype": "text/x-python",
   "name": "python",
   "nbconvert_exporter": "python",
   "pygments_lexer": "ipython3",
   "version": "3.10.8"
  }
 },
 "nbformat": 4,
 "nbformat_minor": 5
}
